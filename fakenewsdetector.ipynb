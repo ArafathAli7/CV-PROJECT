{
  "nbformat": 4,
  "nbformat_minor": 0,
  "metadata": {
    "colab": {
      "provenance": [],
      "authorship_tag": "ABX9TyN8BIZspeKeQCFHp5rmu0dn",
      "include_colab_link": true
    },
    "kernelspec": {
      "name": "python3",
      "display_name": "Python 3"
    },
    "language_info": {
      "name": "python"
    }
  },
  "cells": [
    {
      "cell_type": "markdown",
      "metadata": {
        "id": "view-in-github",
        "colab_type": "text"
      },
      "source": [
        "<a href=\"https://colab.research.google.com/github/ArafathAli7/CV-PROJECT/blob/main/fakenewsdetector.ipynb\" target=\"_parent\"><img src=\"https://colab.research.google.com/assets/colab-badge.svg\" alt=\"Open In Colab\"/></a>"
      ]
    },
    {
      "cell_type": "code",
      "execution_count": 2,
      "metadata": {
        "colab": {
          "base_uri": "https://localhost:8080/"
        },
        "id": "J-NjiMDXjRgZ",
        "outputId": "dca0df89-03d0-4b2f-823f-3b5310c503e6"
      },
      "outputs": [
        {
          "output_type": "stream",
          "name": "stdout",
          "text": [
            "Requirement already satisfied: scikit-learn in /usr/local/lib/python3.11/dist-packages (1.6.1)\n",
            "Requirement already satisfied: numpy>=1.19.5 in /usr/local/lib/python3.11/dist-packages (from scikit-learn) (1.26.4)\n",
            "Requirement already satisfied: scipy>=1.6.0 in /usr/local/lib/python3.11/dist-packages (from scikit-learn) (1.14.1)\n",
            "Requirement already satisfied: joblib>=1.2.0 in /usr/local/lib/python3.11/dist-packages (from scikit-learn) (1.4.2)\n",
            "Requirement already satisfied: threadpoolctl>=3.1.0 in /usr/local/lib/python3.11/dist-packages (from scikit-learn) (3.5.0)\n"
          ]
        }
      ],
      "source": [
        "!pip install scikit-learn\n"
      ]
    },
    {
      "cell_type": "code",
      "source": [
        "import pandas as pd\n",
        "import numpy as np\n",
        "import nltk\n",
        "import re\n",
        "import string\n",
        "from sklearn.model_selection import train_test_split\n",
        "from sklearn.feature_extraction.text import TfidfVectorizer\n",
        "from sklearn.linear_model import LogisticRegression\n",
        "from sklearn.metrics import accuracy_score\n"
      ],
      "metadata": {
        "id": "2Nr_vI7Bjl5f"
      },
      "execution_count": 3,
      "outputs": []
    },
    {
      "cell_type": "code",
      "source": [
        "!kaggle datasets download -d clmentbisaillon/fake-and-real-news-dataset\n"
      ],
      "metadata": {
        "colab": {
          "base_uri": "https://localhost:8080/"
        },
        "id": "IS1qot6RnoNh",
        "outputId": "41fcfb62-39ab-49dd-f997-fbef029a3213"
      },
      "execution_count": 7,
      "outputs": [
        {
          "output_type": "stream",
          "name": "stdout",
          "text": [
            "Warning: Looks like you're using an outdated API Version, please consider updating (server 1.7.4.2 / client 1.6.17)\n",
            "Dataset URL: https://www.kaggle.com/datasets/clmentbisaillon/fake-and-real-news-dataset\n",
            "License(s): CC-BY-NC-SA-4.0\n",
            "Downloading fake-and-real-news-dataset.zip to /content\n",
            " 83% 34.0M/41.0M [00:00<00:00, 184MB/s]\n",
            "100% 41.0M/41.0M [00:00<00:00, 181MB/s]\n"
          ]
        }
      ]
    },
    {
      "cell_type": "code",
      "source": [
        "import zipfile\n",
        "with zipfile.ZipFile('fake-and-real-news-dataset.zip', 'r') as zip_ref:\n",
        "    zip_ref.extractall('news_dataset')\n"
      ],
      "metadata": {
        "id": "MHoeRNn-nrq3"
      },
      "execution_count": 8,
      "outputs": []
    },
    {
      "cell_type": "code",
      "source": [
        "import os\n",
        "print(os.listdir('news_dataset'))\n",
        "\n"
      ],
      "metadata": {
        "colab": {
          "base_uri": "https://localhost:8080/"
        },
        "id": "4BNbmI_ijuTK",
        "outputId": "258ef481-d51e-40fd-f321-87f3e835bc31"
      },
      "execution_count": 10,
      "outputs": [
        {
          "output_type": "stream",
          "name": "stdout",
          "text": [
            "['Fake.csv', 'True.csv']\n"
          ]
        }
      ]
    },
    {
      "cell_type": "code",
      "source": [
        "import pandas as pd\n",
        "\n",
        "df_fake = pd.read_csv('news_dataset/Fake.csv')\n",
        "df_real = pd.read_csv('news_dataset/True.csv')\n",
        "\n",
        "df_fake['label'] = 0  # Fake news\n",
        "df_real['label'] = 1  # Real news\n",
        "\n",
        "df = pd.concat([df_fake, df_real]).reset_index(drop=True)\n",
        "df = df.sample(frac=1).reset_index(drop=True)  # Shuffle dataset\n",
        "\n",
        "print(df.head())\n",
        "\n"
      ],
      "metadata": {
        "colab": {
          "base_uri": "https://localhost:8080/"
        },
        "id": "XiuOcKAEnPes",
        "outputId": "0db369c2-652c-4923-ba7b-b60f49be3088"
      },
      "execution_count": 11,
      "outputs": [
        {
          "output_type": "stream",
          "name": "stdout",
          "text": [
            "                                               title  \\\n",
            "0  IRS identifies more cyberattacks to access tax...   \n",
            "1  Trump budget cuts may stir backlash in rural A...   \n",
            "2   Watch Trump Mock His Moronic Supporters To Th...   \n",
            "3  WHO NEEDS NANCY PELOSI WHEN CONGRESS HAS PAUL ...   \n",
            "4  POPE MEETS WITH ANGRY, JEWISH, PR0 LATE-TERM A...   \n",
            "\n",
            "                                                text       subject  \\\n",
            "0  (Reuters) - The Internal Revenue Service said ...  politicsNews   \n",
            "1  WASHINGTON (Reuters) - President Donald Trump’...  politicsNews   \n",
            "2  If there s one thing Donald Trump knows how to...          News   \n",
            "3  Why do we even need a Congress anymore? We hav...     left-news   \n",
            "4  As a Catholic I m offended by this Pope s poli...     left-news   \n",
            "\n",
            "                 date  label  \n",
            "0  February 26, 2016       1  \n",
            "1       May 23, 2017       1  \n",
            "2     January 6, 2016      0  \n",
            "3        Jun 11, 2015      0  \n",
            "4        Apr 16, 2016      0  \n"
          ]
        }
      ]
    },
    {
      "cell_type": "code",
      "source": [
        "# Split data into training and testing sets\n",
        "X_train, X_test, y_train, y_test = train_test_split(df[\"text\"], df[\"label\"], test_size=0.2, random_state=42)\n",
        "\n",
        "# Convert text to numerical features using TF-IDF Vectorization\n",
        "vectorizer = TfidfVectorizer()\n",
        "X_train_tfidf = vectorizer.fit_transform(X_train)\n",
        "X_test_tfidf = vectorizer.transform(X_test)\n",
        "\n",
        "# Train the model using Logistic Regression\n",
        "model = LogisticRegression()\n",
        "model.fit(X_train_tfidf, y_train)\n",
        "\n",
        "# Predict and check accuracy\n",
        "y_pred = model.predict(X_test_tfidf)\n",
        "accuracy = accuracy_score(y_test, y_pred)\n",
        "print(f\"Model Accuracy: {accuracy * 100:.2f}%\")\n"
      ],
      "metadata": {
        "colab": {
          "base_uri": "https://localhost:8080/"
        },
        "id": "BPErAX92oP7v",
        "outputId": "7260d753-24d0-40d9-e887-9be7772060f1"
      },
      "execution_count": 14,
      "outputs": [
        {
          "output_type": "stream",
          "name": "stdout",
          "text": [
            "Model Accuracy: 98.80%\n"
          ]
        }
      ]
    },
    {
      "cell_type": "code",
      "source": [
        "def predict_news(news):\n",
        "    news_cleaned = clean_text(news)  # Clean input text\n",
        "    news_vectorized = vectorizer.transform([news_cleaned])  # Convert to TF-IDF\n",
        "    prediction = model.predict(news_vectorized)  # Predict\n",
        "    return \"Real News\" if prediction[0] == 1 else \"Fake News\"\n",
        "\n",
        "# Test Example\n",
        "test_news = \"Breaking: The government has launched a new policy for healthcare.\"\n",
        "print(f\"Prediction: {predict_news(test_news)}\")\n"
      ],
      "metadata": {
        "colab": {
          "base_uri": "https://localhost:8080/"
        },
        "id": "b3Ftfv-GowR4",
        "outputId": "e07b092d-b72d-426b-ee67-1b021dc73636"
      },
      "execution_count": 15,
      "outputs": [
        {
          "output_type": "stream",
          "name": "stdout",
          "text": [
            "Prediction: Real News\n"
          ]
        }
      ]
    }
  ]
}